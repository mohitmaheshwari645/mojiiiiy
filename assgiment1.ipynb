{
 "cells": [
  {
   "cell_type": "markdown",
   "id": "5e0dfb2c-1a6f-4914-8752-d88514fe668b",
   "metadata": {},
   "source": [
    "q.1"
   ]
  },
  {
   "cell_type": "code",
   "execution_count": 1,
   "id": "99e43a0d-759b-4c55-bea4-35c89760f701",
   "metadata": {},
   "outputs": [],
   "source": [
    "x=5"
   ]
  },
  {
   "cell_type": "code",
   "execution_count": 2,
   "id": "414ebca1-103c-4271-a8d4-468a8e62af54",
   "metadata": {},
   "outputs": [],
   "source": [
    "y=10"
   ]
  },
  {
   "cell_type": "code",
   "execution_count": 3,
   "id": "ed2ece04-508b-47e0-88d8-6100f388ba41",
   "metadata": {},
   "outputs": [],
   "source": [
    "x=x+y"
   ]
  },
  {
   "cell_type": "code",
   "execution_count": 4,
   "id": "6544e7de-de02-4825-91c2-e645da0d4bbc",
   "metadata": {},
   "outputs": [
    {
     "name": "stdout",
     "output_type": "stream",
     "text": [
      "after swapping:\n"
     ]
    }
   ],
   "source": [
    "print(\"after swapping:\")"
   ]
  },
  {
   "cell_type": "code",
   "execution_count": 5,
   "id": "e6bcc414-e632-40dc-be25-64b91be16251",
   "metadata": {},
   "outputs": [
    {
     "name": "stdout",
     "output_type": "stream",
     "text": [
      "x= 15\n"
     ]
    }
   ],
   "source": [
    "print(\"x=\",x)"
   ]
  },
  {
   "cell_type": "code",
   "execution_count": 6,
   "id": "4d56f0ec-9c71-478c-b81b-178d0623b8a1",
   "metadata": {},
   "outputs": [
    {
     "name": "stdout",
     "output_type": "stream",
     "text": [
      "y= 10\n"
     ]
    }
   ],
   "source": [
    "print(\"y=\",y)"
   ]
  },
  {
   "cell_type": "markdown",
   "id": "f5d35006-95f6-4269-b3da-01c55c343157",
   "metadata": {},
   "source": [
    "q.2"
   ]
  },
  {
   "cell_type": "code",
   "execution_count": 7,
   "id": "9078bd44-3379-4b1d-8591-c1bf290594dd",
   "metadata": {},
   "outputs": [],
   "source": [
    "#Takig input for length and width"
   ]
  },
  {
   "cell_type": "code",
   "execution_count": 8,
   "id": "2933c7db-eed8-47e4-a753-17bfd3c246ab",
   "metadata": {},
   "outputs": [
    {
     "name": "stdin",
     "output_type": "stream",
     "text": [
      "Enter the length of the rectangle: 50\n"
     ]
    }
   ],
   "source": [
    "length=float(input(\"Enter the length of the rectangle:\"))"
   ]
  },
  {
   "cell_type": "code",
   "execution_count": 9,
   "id": "957c5d73-3e3c-4ef8-888a-bd2062d071a8",
   "metadata": {},
   "outputs": [
    {
     "name": "stdin",
     "output_type": "stream",
     "text": [
      "Enter the width of rectangle: 40\n"
     ]
    }
   ],
   "source": [
    "width= float(input(\"Enter the width of rectangle:\" ))"
   ]
  },
  {
   "cell_type": "code",
   "execution_count": 10,
   "id": "2dee1a01-5eee-49fd-8e92-95e8544822b7",
   "metadata": {},
   "outputs": [],
   "source": [
    "# Calculating the area"
   ]
  },
  {
   "cell_type": "code",
   "execution_count": 11,
   "id": "6a9d4aa1-0f2b-4dd0-abc5-3ea1fd54eaaf",
   "metadata": {},
   "outputs": [],
   "source": [
    "area=length*width"
   ]
  },
  {
   "cell_type": "code",
   "execution_count": 12,
   "id": "028eb811-b00c-420c-988f-63e54bda75b4",
   "metadata": {},
   "outputs": [],
   "source": [
    "# Displaying the result"
   ]
  },
  {
   "cell_type": "code",
   "execution_count": 13,
   "id": "8ae0601d-184e-4d7a-ba61-68d73e5b734a",
   "metadata": {},
   "outputs": [
    {
     "name": "stdout",
     "output_type": "stream",
     "text": [
      " The area of the rectangle is: 2000.0\n"
     ]
    }
   ],
   "source": [
    "print(\" The area of the rectangle is:\",area)"
   ]
  },
  {
   "cell_type": "markdown",
   "id": "af6cbbe0-3f23-4ce3-a765-8b8158b5b5ec",
   "metadata": {},
   "source": [
    "q.3"
   ]
  },
  {
   "cell_type": "code",
   "execution_count": 14,
   "id": "cfe57b73-5136-40fc-83d3-746661e35dc8",
   "metadata": {},
   "outputs": [],
   "source": [
    "# Taking input for temperature in Celsius"
   ]
  },
  {
   "cell_type": "code",
   "execution_count": 15,
   "id": "0de9c4d6-d9ec-496f-b38b-ece8625cac80",
   "metadata": {},
   "outputs": [
    {
     "name": "stdin",
     "output_type": "stream",
     "text": [
      "Enter temperature in Celsius: 25\n"
     ]
    }
   ],
   "source": [
    "celsius=float(input(\"Enter temperature in Celsius:\"))"
   ]
  },
  {
   "cell_type": "code",
   "execution_count": 16,
   "id": "4c481632-4569-49bf-b4d9-24c73faa29d0",
   "metadata": {},
   "outputs": [],
   "source": [
    "# Converting Celsius to fahrenheit"
   ]
  },
  {
   "cell_type": "code",
   "execution_count": 17,
   "id": "efc33a4e-dfe3-468f-bea4-8c2e82b9c32c",
   "metadata": {},
   "outputs": [],
   "source": [
    "fahrenheit=(celsius *9/5)+32"
   ]
  },
  {
   "cell_type": "code",
   "execution_count": 18,
   "id": "53b5670b-cc05-4b4b-9ef4-8cd966eb2ed0",
   "metadata": {},
   "outputs": [],
   "source": [
    "# Displaying the converted temperature"
   ]
  },
  {
   "cell_type": "code",
   "execution_count": 19,
   "id": "c42fc69f-2f9b-47e9-873d-8423a3001c87",
   "metadata": {},
   "outputs": [
    {
     "name": "stdout",
     "output_type": "stream",
     "text": [
      "Temperature in Fahrenheit: 77.0\n"
     ]
    }
   ],
   "source": [
    "print(\"Temperature in Fahrenheit:\",fahrenheit)"
   ]
  },
  {
   "cell_type": "markdown",
   "id": "3464e48b-a4d2-4f5c-8612-60cb7a7ee075",
   "metadata": {},
   "source": [
    "Topic: String Based Questions"
   ]
  },
  {
   "cell_type": "markdown",
   "id": "15b3e18a-ef59-4f14-b2bf-7c714e03a76e",
   "metadata": {},
   "source": [
    "q.1"
   ]
  },
  {
   "cell_type": "code",
   "execution_count": 20,
   "id": "cfcf3872-6630-4c6d-ab83-f298f7d031df",
   "metadata": {},
   "outputs": [],
   "source": [
    "# Taking input from the user"
   ]
  },
  {
   "cell_type": "code",
   "execution_count": 21,
   "id": "24263d76-459a-428a-9fb0-b30429f14a54",
   "metadata": {},
   "outputs": [
    {
     "name": "stdin",
     "output_type": "stream",
     "text": [
      "Enter a string: mohit\n"
     ]
    }
   ],
   "source": [
    "input_string=input(\"Enter a string:\")"
   ]
  },
  {
   "cell_type": "code",
   "execution_count": 22,
   "id": "807c7efe-bf26-44b6-b406-0d7812b41cdd",
   "metadata": {},
   "outputs": [],
   "source": [
    "# Calculating the length of the string"
   ]
  },
  {
   "cell_type": "code",
   "execution_count": 23,
   "id": "99ab0896-3a5c-4416-9113-7b53cf9fef7f",
   "metadata": {},
   "outputs": [],
   "source": [
    "length = len(input_string)"
   ]
  },
  {
   "cell_type": "code",
   "execution_count": 24,
   "id": "eec4db58-4be2-4272-bc88-4ff39b6ba1bd",
   "metadata": {},
   "outputs": [],
   "source": [
    "#Displaying the length of the string"
   ]
  },
  {
   "cell_type": "code",
   "execution_count": 25,
   "id": "59d62577-03cf-4144-aebe-7c5441c01de7",
   "metadata": {},
   "outputs": [
    {
     "name": "stdout",
     "output_type": "stream",
     "text": [
      " Length of the string: 5\n"
     ]
    }
   ],
   "source": [
    "print(\" Length of the string:\", length)"
   ]
  },
  {
   "cell_type": "markdown",
   "id": "26edd0ba-bebc-4bd5-a4e1-56c2ad084f92",
   "metadata": {},
   "source": [
    "\n",
    "q.2"
   ]
  },
  {
   "cell_type": "code",
   "execution_count": 10,
   "id": "b3b3dea5-19bb-41ab-b438-7ffbe8dbb588",
   "metadata": {},
   "outputs": [],
   "source": [
    "# Taking input from the user"
   ]
  },
  {
   "cell_type": "code",
   "execution_count": 91,
   "id": "7d17e4f9-c089-416b-948e-4aca3e7ccc5c",
   "metadata": {},
   "outputs": [
    {
     "name": "stdin",
     "output_type": "stream",
     "text": [
      "Enter a sentence: mohit\n"
     ]
    }
   ],
   "source": [
    "input_sentence = input(\"Enter a sentence:\")"
   ]
  },
  {
   "cell_type": "code",
   "execution_count": 34,
   "id": "d94a7c71-5909-41a5-a126-8768fb2d2bd0",
   "metadata": {},
   "outputs": [],
   "source": [
    "# Initializing a count variable for vowels"
   ]
  },
  {
   "cell_type": "code",
   "execution_count": 92,
   "id": "7f77d019-b918-4151-8726-d60bf5d1d143",
   "metadata": {},
   "outputs": [],
   "source": [
    "vowel_count= 0"
   ]
  },
  {
   "cell_type": "code",
   "execution_count": 93,
   "id": "7a4e339c-3bf3-49de-9417-819ce86946e5",
   "metadata": {},
   "outputs": [],
   "source": [
    "#Defining a set of lowercase and uppercase vowels"
   ]
  },
  {
   "cell_type": "code",
   "execution_count": 94,
   "id": "e6de05e1-2d09-4655-af08-52cf0899c22b",
   "metadata": {},
   "outputs": [],
   "source": [
    "vowels = \"aeiouAEIOU\""
   ]
  },
  {
   "cell_type": "code",
   "execution_count": 95,
   "id": "ed706dd1-3c4b-431f-9a6e-768a20821c07",
   "metadata": {},
   "outputs": [],
   "source": [
    "# Counting the number of vowels in the sentence"
   ]
  },
  {
   "cell_type": "code",
   "execution_count": 96,
   "id": "f149493f-dae4-488a-b5e9-8a5a96d71fa7",
   "metadata": {},
   "outputs": [
    {
     "ename": "SyntaxError",
     "evalue": "incomplete input (2024915211.py, line 1)",
     "output_type": "error",
     "traceback": [
      "\u001b[0;36m  Cell \u001b[0;32mIn[96], line 1\u001b[0;36m\u001b[0m\n\u001b[0;31m    for char in input_sentence:\u001b[0m\n\u001b[0m                               ^\u001b[0m\n\u001b[0;31mSyntaxError\u001b[0m\u001b[0;31m:\u001b[0m incomplete input\n"
     ]
    }
   ],
   "source": [
    "for char in input_sentence:"
   ]
  },
  {
   "cell_type": "code",
   "execution_count": 97,
   "id": "c3faf2f5-0271-4444-b156-6f28e008a438",
   "metadata": {},
   "outputs": [
    {
     "ename": "SyntaxError",
     "evalue": "incomplete input (2442156303.py, line 1)",
     "output_type": "error",
     "traceback": [
      "\u001b[0;36m  Cell \u001b[0;32mIn[97], line 1\u001b[0;36m\u001b[0m\n\u001b[0;31m    if char in vowels:\u001b[0m\n\u001b[0m                      ^\u001b[0m\n\u001b[0;31mSyntaxError\u001b[0m\u001b[0;31m:\u001b[0m incomplete input\n"
     ]
    }
   ],
   "source": [
    "if char in vowels:"
   ]
  },
  {
   "cell_type": "code",
   "execution_count": 98,
   "id": "4ed55274-e2dc-4975-b0e0-31a979311bab",
   "metadata": {},
   "outputs": [],
   "source": [
    "vowel_count += 1"
   ]
  },
  {
   "cell_type": "code",
   "execution_count": 99,
   "id": "c4f5cfc7-5a28-4e69-8670-bec80c4158cc",
   "metadata": {},
   "outputs": [],
   "source": [
    "# Displaying the vowel count"
   ]
  },
  {
   "cell_type": "code",
   "execution_count": 100,
   "id": "c6f3725b-fffb-463b-9dec-1b020a5ce493",
   "metadata": {},
   "outputs": [
    {
     "name": "stdout",
     "output_type": "stream",
     "text": [
      "Number of vowels in the sentence: 1\n"
     ]
    }
   ],
   "source": [
    "print(\"Number of vowels in the sentence:\", vowel_count)"
   ]
  },
  {
   "cell_type": "code",
   "execution_count": null,
   "id": "b63f5684-492d-4cde-b009-95933c41027d",
   "metadata": {},
   "outputs": [],
   "source": []
  },
  {
   "cell_type": "markdown",
   "id": "e54e3be3-f5ac-4e01-b714-36d14dab5d1a",
   "metadata": {},
   "source": [
    "q.3"
   ]
  },
  {
   "cell_type": "code",
   "execution_count": 4,
   "id": "de53b676-cb66-4acb-b009-0150dfb80de3",
   "metadata": {},
   "outputs": [
    {
     "name": "stdin",
     "output_type": "stream",
     "text": [
      "Enter a string:  gfgufg\n"
     ]
    }
   ],
   "source": [
    "input_string = input(\"Enter a string: \")"
   ]
  },
  {
   "cell_type": "code",
   "execution_count": 101,
   "id": "f9be944a-22f1-4d41-9deb-6c2da3988401",
   "metadata": {},
   "outputs": [],
   "source": [
    "#Taking input from the user"
   ]
  },
  {
   "cell_type": "code",
   "execution_count": 5,
   "id": "2d3f6057-8918-4b07-bae7-a05469ab4cb8",
   "metadata": {},
   "outputs": [],
   "source": [
    "# Reversing the string using string slicing"
   ]
  },
  {
   "cell_type": "code",
   "execution_count": 6,
   "id": "ba161000-6d20-4f36-963f-d0945fe87153",
   "metadata": {},
   "outputs": [],
   "source": [
    "reversed_string = input_string[::-1]"
   ]
  },
  {
   "cell_type": "code",
   "execution_count": 7,
   "id": "3abe00c3-2ace-461d-ba2a-09dd8c27e308",
   "metadata": {},
   "outputs": [],
   "source": [
    "#Displaying the reversed string"
   ]
  },
  {
   "cell_type": "code",
   "execution_count": 8,
   "id": "58ee6a4f-8c19-4e6b-86db-4b3046d3c9a6",
   "metadata": {},
   "outputs": [
    {
     "name": "stdout",
     "output_type": "stream",
     "text": [
      "Reversed string: gfugfg\n"
     ]
    }
   ],
   "source": [
    "print(\"Reversed string:\", reversed_string)"
   ]
  },
  {
   "cell_type": "markdown",
   "id": "364fe62b-3fa5-43af-9a44-aedd710ae70b",
   "metadata": {},
   "source": [
    "q.4"
   ]
  },
  {
   "cell_type": "code",
   "execution_count": 9,
   "id": "01d0d320-b995-4a9d-b60d-d92aa6b9e743",
   "metadata": {},
   "outputs": [],
   "source": [
    "#Taking input from the user"
   ]
  },
  {
   "cell_type": "code",
   "execution_count": 44,
   "id": "5fbeb96e-3527-46ab-885f-a83116a30a59",
   "metadata": {},
   "outputs": [
    {
     "name": "stdin",
     "output_type": "stream",
     "text": [
      "Enter a string:  sudhamshu good boy\n"
     ]
    }
   ],
   "source": [
    "input_string = input(\"Enter a string: \")"
   ]
  },
  {
   "cell_type": "code",
   "execution_count": 11,
   "id": "372b6527-28da-44ff-8280-fa90a38eddc2",
   "metadata": {},
   "outputs": [],
   "source": [
    "#Removing spaces and converting to lowercase for comparison"
   ]
  },
  {
   "cell_type": "code",
   "execution_count": 45,
   "id": "89d33b9b-7167-48f6-bc9f-829cdd5f0c1f",
   "metadata": {},
   "outputs": [],
   "source": [
    "cleaned_string = input_string.replace(\" \", \"\").lower()"
   ]
  },
  {
   "cell_type": "code",
   "execution_count": 46,
   "id": "508ff84f-cc23-4d12-84c8-3ac5cfef1b62",
   "metadata": {},
   "outputs": [],
   "source": [
    "#Reversing the cleaned string using string slicing"
   ]
  },
  {
   "cell_type": "code",
   "execution_count": 47,
   "id": "4625eb5d-6b3e-4649-b435-f2410c2d540e",
   "metadata": {},
   "outputs": [
    {
     "ename": "SyntaxError",
     "evalue": "invalid syntax (2722595168.py, line 1)",
     "output_type": "error",
     "traceback": [
      "\u001b[0;36m  Cell \u001b[0;32mIn[47], line 1\u001b[0;36m\u001b[0m\n\u001b[0;31m    if cleaned_string = = reversed_string:\u001b[0m\n\u001b[0m                      ^\u001b[0m\n\u001b[0;31mSyntaxError\u001b[0m\u001b[0;31m:\u001b[0m invalid syntax\n"
     ]
    }
   ],
   "source": [
    "if cleaned_string = = reversed_string:"
   ]
  },
  {
   "cell_type": "code",
   "execution_count": 48,
   "id": "3181d217-0d01-419d-8a12-b64f8efd71a5",
   "metadata": {},
   "outputs": [],
   "source": [
    "reversed_string = cleaned_string[::-1]"
   ]
  },
  {
   "cell_type": "code",
   "execution_count": 49,
   "id": "5e8e12a4-e499-4cba-b30f-20e3861ca9cd",
   "metadata": {},
   "outputs": [],
   "source": [
    "# Checking if the cleaned string is equal to its reverse"
   ]
  },
  {
   "cell_type": "code",
   "execution_count": 50,
   "id": "774a350f-ac45-4014-80c7-cd786e6bd641",
   "metadata": {},
   "outputs": [
    {
     "name": "stdout",
     "output_type": "stream",
     "text": [
      "The entered string is a palindrome.\n"
     ]
    }
   ],
   "source": [
    "print(\"The entered string is a palindrome.\")"
   ]
  },
  {
   "cell_type": "code",
   "execution_count": 51,
   "id": "a3880d68-9398-430e-9a9f-dee43220e54b",
   "metadata": {},
   "outputs": [
    {
     "ename": "SyntaxError",
     "evalue": "invalid syntax (4124731095.py, line 1)",
     "output_type": "error",
     "traceback": [
      "\u001b[0;36m  Cell \u001b[0;32mIn[51], line 1\u001b[0;36m\u001b[0m\n\u001b[0;31m    else:\u001b[0m\n\u001b[0m    ^\u001b[0m\n\u001b[0;31mSyntaxError\u001b[0m\u001b[0;31m:\u001b[0m invalid syntax\n"
     ]
    }
   ],
   "source": [
    "else:"
   ]
  },
  {
   "cell_type": "code",
   "execution_count": 52,
   "id": "77a8e722-a707-413a-8bd2-df6162a76a42",
   "metadata": {},
   "outputs": [
    {
     "name": "stdout",
     "output_type": "stream",
     "text": [
      "The entered string is not a palindrome.\n"
     ]
    }
   ],
   "source": [
    " print(\"The entered string is not a palindrome.\")"
   ]
  },
  {
   "cell_type": "code",
   "execution_count": null,
   "id": "2dbe9816-66a0-4622-8c1a-76ac07b2b54b",
   "metadata": {},
   "outputs": [],
   "source": []
  },
  {
   "cell_type": "markdown",
   "id": "28de7456-e1b7-4862-8b2a-583e08f205f9",
   "metadata": {},
   "source": [
    "q.5"
   ]
  },
  {
   "cell_type": "code",
   "execution_count": 53,
   "id": "d90695ab-7c8a-4092-97ff-dcbc601f52d0",
   "metadata": {},
   "outputs": [],
   "source": [
    "#Taking input from the user"
   ]
  },
  {
   "cell_type": "code",
   "execution_count": 54,
   "id": "07ba3100-bcd1-4a42-9cc6-1cedf496c9c6",
   "metadata": {},
   "outputs": [
    {
     "name": "stdin",
     "output_type": "stream",
     "text": [
      "Enter a string:  jbhjgh\n"
     ]
    }
   ],
   "source": [
    "input_string = input(\"Enter a string: \")"
   ]
  },
  {
   "cell_type": "code",
   "execution_count": 55,
   "id": "d8fa6bb2-65ae-4020-8147-1888da00badc",
   "metadata": {},
   "outputs": [],
   "source": [
    "#Removing spaces from the string"
   ]
  },
  {
   "cell_type": "code",
   "execution_count": 56,
   "id": "429ff4ab-0133-476c-a881-c57fb1d2a723",
   "metadata": {},
   "outputs": [],
   "source": [
    "modified_string = input_string.replace(\" \", \"\")"
   ]
  },
  {
   "cell_type": "code",
   "execution_count": 57,
   "id": "1bca16e9-5ea6-4be0-84f0-548868c20a52",
   "metadata": {},
   "outputs": [],
   "source": [
    "#Displaying the modified string without spaces"
   ]
  },
  {
   "cell_type": "code",
   "execution_count": 58,
   "id": "6f573fdb-02f3-473c-befe-7331860c783b",
   "metadata": {},
   "outputs": [
    {
     "name": "stdout",
     "output_type": "stream",
     "text": [
      "Modified string without spaces: jbhjgh\n"
     ]
    }
   ],
   "source": [
    "print(\"Modified string without spaces:\", modified_string)"
   ]
  },
  {
   "cell_type": "code",
   "execution_count": null,
   "id": "a053c44c-338f-4add-8111-fb8d1b5ea972",
   "metadata": {},
   "outputs": [],
   "source": []
  }
 ],
 "metadata": {
  "kernelspec": {
   "display_name": "Python 3 (ipykernel)",
   "language": "python",
   "name": "python3"
  },
  "language_info": {
   "codemirror_mode": {
    "name": "ipython",
    "version": 3
   },
   "file_extension": ".py",
   "mimetype": "text/x-python",
   "name": "python",
   "nbconvert_exporter": "python",
   "pygments_lexer": "ipython3",
   "version": "3.10.8"
  }
 },
 "nbformat": 4,
 "nbformat_minor": 5
}
